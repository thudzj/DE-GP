<!DOCTYPE html>
<html>
  <head>
    <meta charset="utf-8">
    <meta http-equiv="X-UA-Compatible" content="IE=edge,chrome=1">
    <title>dex</title>
    <meta name="viewport" content="width=device-width, initial-scale=1.0">
    <link href="static/main.css" rel="stylesheet">
    <link href="theme/styles.css" rel="stylesheet">
    <link rel="icon" href="theme/favicon.png">
  </head>

  <body class="theme-body">
    <div class="theme-navbar">
      <div class="theme-navbar__logo-wrap">
        <img class="theme-navbar__logo" src="theme/logo.png">
      </div>
    </div>

    <div class="dex-container">



<div class="theme-panel">
  <h2 class="theme-heading">Log in to dex </h2>
  <div>
    
      <div class="theme-form-row">
        <a href="/dex/auth/local?req=m3ssqahgg4g7btgqh5y237r5s" target="_self">
          <button class="dex-btn theme-btn-provider">
            <span class="dex-btn-icon dex-btn-icon--local"></span>
            <span class="dex-btn-text">Log in with Email</span>
          </button>
        </a>
      </div>
    
      <div class="theme-form-row">
        <a href="/dex/auth/gitlab?req=m3ssqahgg4g7btgqh5y237r5s" target="_self">
          <button class="dex-btn theme-btn-provider">
            <span class="dex-btn-icon dex-btn-icon--gitlab"></span>
            <span class="dex-btn-text">Log in with GitLab</span>
          </button>
        </a>
      </div>
    
  </div>
</div>

    </div>
  </body>
</html>

